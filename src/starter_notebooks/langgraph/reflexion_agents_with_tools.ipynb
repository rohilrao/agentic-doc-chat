{
 "cells": [
  {
   "cell_type": "code",
   "execution_count": 3,
   "id": "941a5ff2",
   "metadata": {},
   "outputs": [],
   "source": [
    "import os\n",
    "import json\n",
    "import getpass\n",
    "from typing import List, Dict\n",
    "from pydantic import BaseModel, Field\n",
    "\n",
    "from langchain_core.prompts import ChatPromptTemplate, MessagesPlaceholder\n",
    "from langchain_core.messages import HumanMessage, AIMessage, ToolMessage, BaseMessage\n",
    "from langchain_community.utilities.tavily_search import TavilySearchAPIWrapper\n",
    "from langchain_community.tools.tavily_search import TavilySearchResults\n",
    "\n",
    "from langgraph.graph import END, MessageGraph\n",
    "\n",
    "import random\n",
    "import string\n",
    "from typing import TypedDict\n",
    "from langgraph.graph import StateGraph, END\n",
    "from langgraph.graph import StateGraph\n",
    "\n",
    "from langchain_core.tools import tool\n",
    "from langchain_core.messages import HumanMessage, ToolMessage\n",
    "from langchain_ollama.chat_models import ChatOllama\n",
    "from langchain_core.messages import HumanMessage\n",
    "from tqdm import tqdm\n",
    "import time, re\n",
    "\n",
    "llm = ChatOllama(\n",
    "    model=\"llama3.1:latest\",\n",
    "    temperature=0.0,\n",
    "    base_url=\"http://localhost:11434\",\n",
    "    api_key=\"ollama\"\n",
    ")"
   ]
  },
  {
   "cell_type": "code",
   "execution_count": 4,
   "id": "ab3f5759",
   "metadata": {},
   "outputs": [],
   "source": [
    "def _set_if_undefined(var: str) -> None:\n",
    "    if os.environ.get(var):\n",
    "        return\n",
    "    os.environ[var] = getpass.getpass(var)\n",
    "_set_if_undefined(\"TAVILY_API_KEY\")"
   ]
  },
  {
   "cell_type": "code",
   "execution_count": 5,
   "id": "51cf12b4",
   "metadata": {},
   "outputs": [
    {
     "name": "stderr",
     "output_type": "stream",
     "text": [
      "/tmp/ipykernel_3880717/2046710301.py:1: LangChainDeprecationWarning: The class `TavilySearchResults` was deprecated in LangChain 0.3.25 and will be removed in 1.0. An updated version of the class exists in the :class:`~langchain-tavily package and should be used instead. To use it run `pip install -U :class:`~langchain-tavily` and import as `from :class:`~langchain_tavily import TavilySearch``.\n",
      "  tavily_tool=TavilySearchResults(max_results=1)\n"
     ]
    },
    {
     "name": "stdout",
     "output_type": "stream",
     "text": [
      "[{'title': '60 Healthy Breakfast Ideas Recipe - Love and Lemons', 'url': 'https://www.loveandlemons.com/healthy-breakfast-ideas/', 'content': 'Below, I share over 60 healthy breakfast recipes, divided into 11 (yes, 11!) categories: oats, eggs, smoothies, bowls, quick breads, pancakes & waffles, breakfast tacos, breakfast cookies, toast, muffins & scones, and bars & balls. Whether you’re someone who craves something savory or sweet first thing in the morning, or whether you like to enjoy breakfast at home or grab it and go, you’re sure to find some healthy breakfast ideas you love.\\n\\nHealthy breakfast ideas - overnight oats [...] Smoothies are some of the best breakfast recipes, as they pack a big serving of fruits and veggies into your first meal of the day. Through years of making smoothies, I’ve found that a handful of spinach is almost undetectable, so toss some into a fruit smoothie for extra nutrients! Alternatively, blend in a superfood like hemp seeds, nut butter, matcha, or maca powder for an extra healthy kick. [...] If you’re looking for tried and true easy breakfast ideas, toast is the thing for you! Pop a slice of whole grain bread in the toaster, and load it up with your favorite seasonal toppings. I like to start with a creamy spread and then add a layer of roasted or raw veggies, fruit, and/or fresh herbs. I’m a diehard fan of avocado toast, but hummus, ricotta, and nut butter are good starting points for making delicious toast too.', 'score': 0.9165366}]\n"
     ]
    }
   ],
   "source": [
    "tavily_tool=TavilySearchResults(max_results=1)\n",
    "sample_query = \"healthy breakfast recipes\"\n",
    "search_results = tavily_tool.invoke(sample_query)\n",
    "print(search_results)"
   ]
  },
  {
   "cell_type": "code",
   "execution_count": 6,
   "id": "08924c46",
   "metadata": {},
   "outputs": [
    {
     "name": "stdout",
     "output_type": "stream",
     "text": [
      "Here are some delicious and healthy breakfast ideas:\n",
      "\n",
      "**Hot Breakfasts**\n",
      "\n",
      "1. **Oatmeal with Fresh Fruits**: Steel-cut oats or rolled oats cooked with milk or water, topped with fresh fruits like bananas, berries, or apples.\n",
      "2. **Avocado Toast**: Whole-grain toast topped with mashed avocado, eggs (if desired), and a sprinkle of salt and pepper.\n",
      "3. **Greek Yogurt Parfait**: Greek yogurt layered with granola, fresh berries, and a drizzle of honey.\n",
      "\n",
      "**Cold Breakfasts**\n",
      "\n",
      "1. **Smoothie Bowl**: Blend your favorite fruits, yogurt, and milk, then top with granola, nuts, or seeds.\n",
      "2. **Overnight Oats**: Mix rolled oats, milk, and your choice of nuts, seeds, or fruit in a jar. Refrigerate overnight and enjoy in the morning.\n",
      "3. **Chia Seed Pudding**: Mix chia seeds with milk and let it sit overnight. Top with fresh fruits and nuts.\n",
      "\n",
      "**Breakfast Sandwiches**\n",
      "\n",
      "1. **Egg and Veggie Wrap**: Scrambled eggs wrapped in a whole-grain tortilla with sautéed veggies like spinach, bell peppers, or mushrooms.\n",
      "2. **Avocado and Bacon Omelette**: A fluffy omelette filled with mashed avocado, crispy bacon, and a sprinkle of cheese.\n",
      "\n",
      "**Breakfast Bowls**\n",
      "\n",
      "1. **Quinoa Breakfast Bowl**: Cook quinoa and mix it with milk, honey, and your choice of nuts or seeds.\n",
      "2. **Sweet Potato Hash**: Roasted sweet potatoes mixed with scrambled eggs, black beans, and salsa.\n",
      "\n",
      "**Other Ideas**\n",
      "\n",
      "1. **Green Smoothie**: Blend spinach, banana, and almond milk for a nutrient-packed breakfast drink.\n",
      "2. **Cottage Cheese and Fruit**: Mix cottage cheese with fresh fruits like berries or sliced peaches.\n",
      "3. **Hard-Boiled Eggs**: Boil eggs the night before and enjoy them as a quick protein-rich breakfast.\n",
      "\n",
      "Remember to choose whole grains, lean proteins, and plenty of fruits and veggies for a balanced breakfast!\n"
     ]
    }
   ],
   "source": [
    "question=\"Any ideas for a healthy breakfast\"\n",
    "response=llm.invoke(question).content\n",
    "print(response)"
   ]
  },
  {
   "cell_type": "code",
   "execution_count": 7,
   "id": "45848a06",
   "metadata": {},
   "outputs": [],
   "source": [
    "prompt_template = ChatPromptTemplate.from_messages([\n",
    "    (\n",
    "        \"system\",\n",
    "        \"\"\"You are Dr. Paul Saladino, \"Carnivore MD,\" advocating for animal-based nutrition and challenging plant-centric dietary dogma. Focus on the superior bioavailability of animal foods and the potential toxicity of plant compounds such as oxalates, lectins, and phytates.\n",
    "\n",
    "        Your response must follow these steps:\n",
    "        1. {first_instruction}\n",
    "        2. Present the evolutionary and biochemical rationale for animal-based nutrition, emphasizing nutrient density, bioavailability, and the absence of plant antinutrients.\n",
    "        3. Challenge conventional \"plants are healthy\" narratives with mechanistic evidence about plant defense compounds and their impact on human physiology.\n",
    "        4. Reflect and critique your answer. Be rigorous about evolutionary consistency and nutrient science.\n",
    "        5. After the reflection, **list 1-3 search queries separately** for researching antinutrients, bioavailability studies, or evolutionary nutrition. Do not include them inside the reflection.\n",
    "\n",
    "        Focus on: organ meats as superfoods, the carnivore elimination protocol, and why \"fiber is unnecessary\" based on human evolutionary biology.\n",
    "        \"\"\"\n",
    "    ),\n",
    "    MessagesPlaceholder(variable_name=\"messages\"),\n",
    "    (\n",
    "        \"system\", \n",
    "        \"Answer the user's question above using the required format, emphasizing the superiority of animal-based nutrition.\"\n",
    "    ),\n",
    "])"
   ]
  },
  {
   "cell_type": "code",
   "execution_count": 8,
   "id": "3140c1b2",
   "metadata": {},
   "outputs": [
    {
     "name": "stdout",
     "output_type": "stream",
     "text": [
      "\n"
     ]
    }
   ],
   "source": [
    "first_responder_prompt = prompt_template.partial(first_instruction=\"Provide a detailed ~250 word answer\")\n",
    "temp_chain = first_responder_prompt| llm\n",
    "response = temp_chain.invoke({\"messages\": [HumanMessage(content=question)]})\n",
    "print(response.content)"
   ]
  },
  {
   "cell_type": "code",
   "execution_count": 10,
   "id": "e6a79dab",
   "metadata": {},
   "outputs": [
    {
     "data": {
      "text/plain": [
       "AIMessage(content='', additional_kwargs={}, response_metadata={'model': 'llama3.1:latest', 'created_at': '2025-08-01T07:31:21.174320162Z', 'done': True, 'done_reason': 'stop', 'total_duration': 153165810, 'load_duration': 23319923, 'prompt_eval_count': 263, 'prompt_eval_duration': 32446661, 'eval_count': 1, 'eval_duration': 95137375, 'model_name': 'llama3.1:latest'}, id='run--12fdf230-3a66-4f4a-b649-355edf2fb0d9-0', usage_metadata={'input_tokens': 263, 'output_tokens': 1, 'total_tokens': 264})"
      ]
     },
     "execution_count": 10,
     "metadata": {},
     "output_type": "execute_result"
    }
   ],
   "source": [
    "response "
   ]
  },
  {
   "cell_type": "code",
   "execution_count": null,
   "id": "df9ef67d",
   "metadata": {},
   "outputs": [],
   "source": []
  },
  {
   "cell_type": "code",
   "execution_count": null,
   "id": "b074ca22",
   "metadata": {},
   "outputs": [],
   "source": []
  },
  {
   "cell_type": "markdown",
   "id": "c91ff2ff",
   "metadata": {},
   "source": [
    "## My Test"
   ]
  },
  {
   "cell_type": "code",
   "execution_count": 32,
   "id": "0bb09198",
   "metadata": {},
   "outputs": [],
   "source": [
    "import os\n",
    "import json\n",
    "import getpass\n",
    "from typing import List, Dict\n",
    "from pydantic import BaseModel, Field\n",
    "from langchain_core.prompts import ChatPromptTemplate, MessagesPlaceholder\n",
    "from langchain_core.messages import HumanMessage, AIMessage, ToolMessage, BaseMessage\n",
    "from langchain_community.utilities.tavily_search import TavilySearchAPIWrapper\n",
    "from langchain_community.tools.tavily_search import TavilySearchResults\n",
    "from langgraph.graph import END, MessageGraph"
   ]
  },
  {
   "cell_type": "code",
   "execution_count": 8,
   "id": "b4df668a",
   "metadata": {},
   "outputs": [
    {
     "name": "stderr",
     "output_type": "stream",
     "text": [
      "/mnt/data3/rrao/projects/RAG/AgenticRAG/agenticrag/lib/python3.12/site-packages/langchain_community/utilities/duckduckgo_search.py:63: RuntimeWarning: This package (`duckduckgo_search`) has been renamed to `ddgs`! Use `pip install ddgs` instead.\n",
      "  with DDGS() as ddgs:\n"
     ]
    },
    {
     "name": "stdout",
     "output_type": "stream",
     "text": [
      "1 day ago · Bonn 7 day weather forecast including weather warnings, temperature, rain, wind, visibility, humidity and UVBonn last 24 hours weather including temperature, wind, visibility, humidity and …Met Office weather forecasts for the UK. World leading weather services for the … Jul 25, 2025 · Latest weather forecast for Bonn for today's, hourly weather forecast, including today's temperatures in Bonn, wind, rain and more. 5 days ago · Bonn Weather Forecasts. Weather Underground provides local & long-range weather forecasts, weatherreports, maps & tropical weather conditions for the Bonn area. Jul 21, 2025 · Today's weather forecast for Bonn by the hour. Apr 8, 2025 · Weather forecast in mobile app. Detailed weather forecast for Bonn for today, tomorrow, the week, 10 days, and the month on Meteum. Weather forecast in Bonn accurate to a …\n"
     ]
    }
   ],
   "source": [
    "from langchain_community.tools.ddg_search.tool import DuckDuckGoSearchRun\n",
    "\n",
    "search_tool = DuckDuckGoSearchRun()\n",
    "\n",
    "# Example search\n",
    "search_result = search_tool.run(\"What is the weather in Bonn, Germany?\")\n",
    "print(search_result)\n"
   ]
  },
  {
   "cell_type": "code",
   "execution_count": 10,
   "id": "07dc2fde",
   "metadata": {},
   "outputs": [],
   "source": [
    "from langchain_ollama.chat_models import ChatOllama\n",
    "llm = ChatOllama(\n",
    "    model=\"llama3.1:latest\",\n",
    "    temperature=0.0,\n",
    "    base_url=\"http://localhost:11434\",\n",
    "    api_key=\"ollama\"\n",
    ")"
   ]
  },
  {
   "cell_type": "code",
   "execution_count": 13,
   "id": "0f8b4ba4",
   "metadata": {},
   "outputs": [
    {
     "data": {
      "text/plain": [
       "'However, I\\'m a large language model, I don\\'t have real-time access to current weather conditions. But I can suggest some ways for you to find out the current weather in Bonn, Germany:\\n\\n1. **Check online weather websites**: You can visit websites like AccuWeather, Weather.com, or the German Meteorological Service (Deutscher Wetterdienst) to get the current weather conditions and forecast for Bonn.\\n2. **Use a search engine**: Simply type \"weather in Bonn\" or \"Bonn weather today\" into your favorite search engine, and it will show you the current weather conditions and forecast.\\n3. **Check social media**: Follow local news outlets, tourist information websites, or official city pages on social media platforms like Facebook or Twitter to get updates on the weather.\\n\\nThat being said, I can give you a general idea of what the climate is like in Bonn, Germany:\\n\\n**Climate:** Bonn has a temperate oceanic climate with warm summers and mild winters. The average temperature ranges from 2°C (36°F) in January (the coldest month) to 22°C (72°F) in July (the warmest month).\\n\\n**Seasonal variations:**\\n\\n* **Spring (March to May):** Mild temperatures, with averages ranging from 10°C (50°F) to 18°C (64°F).\\n* **Summer (June to August):** Warm and sunny, with averages ranging from 22°C (72°F) to 25°C (77°F).\\n* **Autumn (September to November):** Cool and rainy, with averages ranging from 10°C (50°F) to 15°C (59°F).\\n* **Winter (December to February):** Cold and snowy, with averages ranging from 2°C (36°F) to 6°C (43°F).\\n\\nPlease note that these are general temperature ranges and can vary from year to year.\\n\\nIf you need more specific information or the current weather conditions, I recommend checking one of the online resources mentioned above.'"
      ]
     },
     "execution_count": 13,
     "metadata": {},
     "output_type": "execute_result"
    }
   ],
   "source": [
    "llm.invoke(\"What is the weather in Bonn, Germany\").content"
   ]
  },
  {
   "cell_type": "code",
   "execution_count": 20,
   "id": "d480ddf4",
   "metadata": {},
   "outputs": [
    {
     "name": "stdout",
     "output_type": "stream",
     "text": [
      "While I don't have a crystal ball to predict the future, I can provide you with an analysis of popular frameworks and tools that are currently being used or emerging in the field of agentic AI. Keep in mind that this is not an exhaustive list, and new frameworks may emerge by 2025.\n",
      "\n",
      "Based on current trends and research, here are three promising frameworks for building agentic AI:\n",
      "\n",
      "1. **LangChain**: As you mentioned, LangChain is a popular framework for building large language models (LLMs) with agentic capabilities. It provides a set of tools and libraries to build conversational AI systems that can reason, plan, and act in complex environments. LangChain's architecture allows for the integration of multiple LLMs, enabling more robust and flexible agentic behavior.\n",
      "2. **DeepMind's AlphaGo Architecture**: While not specifically designed as an agentic AI framework, DeepMind's AlphaGo architecture has inspired many researchers to build upon its ideas. The AlphaGo architecture combines a neural network with a tree search algorithm to enable the system to reason about complex decision-making problems. This approach can be adapted for building agentic AI systems that can navigate complex environments and make decisions based on long-term goals.\n",
      "3. **Meta AI's LLaMA (Large Language Model Application)**: Meta AI's LLaMA is another prominent framework for building large language models with agentic capabilities. LLaMA provides a set of tools and libraries to build conversational AI systems that can reason, plan, and act in complex environments. The framework includes features like multi-task learning, few-shot learning, and reinforcement learning from human feedback (RLHF), which enable the development of more robust and flexible agentic behavior.\n",
      "\n",
      "Honorable mentions:\n",
      "\n",
      "* **Hugging Face's Transformers**: While not specifically designed as an agentic AI framework, Hugging Face's Transformers library provides a set of pre-trained models and tools for building conversational AI systems. The library includes models like BERT, RoBERTa, and XLNet, which can be fine-tuned for agentic tasks.\n",
      "* **Google's JAX**: Google's JAX is a high-level framework for building differentiable programming systems. While not specifically designed as an agentic AI framework, JAX provides a set of tools and libraries that can be used to build complex decision-making systems.\n",
      "\n",
      "Keep in mind that these frameworks are constantly evolving, and new ones may emerge by 2025. The development of agentic AI requires significant research and innovation, and it's essential to stay up-to-date with the latest advancements in the field.\n",
      "\n",
      "Sources:\n",
      "\n",
      "* LangChain: [https://langchain.dev/](https://langchain.dev/)\n",
      "* DeepMind's AlphaGo Architecture: [https://deepmind.com/research/publications/mastering-chess-and-shogi-through-temporal-difference-learning](https://deepmind.com/research/publications/mastering-chess-and-shogi-through-temporal-difference-learning)\n",
      "* Meta AI's LLaMA: [https://www.meta.ai/llama](https://www.meta.ai/llama)\n",
      "* Hugging Face's Transformers: [https://huggingface.co/models](https://huggingface.co/models)\n",
      "* Google's JAX: [https://github.com/google/jax](https://github.com/google/jax)\n"
     ]
    }
   ],
   "source": [
    "question=\"What are the top 3 best frameworks for building agentic AI in 2025? (for example: langchain)\"\n",
    "response=llm.invoke(question).content\n",
    "print(response)"
   ]
  },
  {
   "cell_type": "markdown",
   "id": "4a1eefdd",
   "metadata": {},
   "source": [
    "## Researcher"
   ]
  },
  {
   "cell_type": "code",
   "execution_count": 15,
   "id": "2375b284",
   "metadata": {},
   "outputs": [],
   "source": [
    "## Creating a research prompt template\n",
    "\n",
    "prompt_template = ChatPromptTemplate.from_messages([\n",
    "    (\n",
    "        \"system\",\n",
    "        \"\"\"You are a Senior Software Developer specializing in AI Agents.\n",
    "\n",
    "        Your response must follow these steps:\n",
    "        1. {first_instruction}\n",
    "        2. Present the most recent research findings on the topic.\n",
    "        3. Reflect and critique your answer. Be rigorous about real world applications and limitations.\n",
    "        4. After the reflection, **list 1-3 search queries separately** for researching agentic applications. Do not include them inside the reflection.\n",
    "        \"\"\"\n",
    "    ),\n",
    "    MessagesPlaceholder(variable_name=\"messages\"),\n",
    "    (\n",
    "        \"system\", \n",
    "        \"Answer the user's question above using the required format. Focus on providing layman and technical explanations\"\n",
    "    ),\n",
    "])"
   ]
  },
  {
   "cell_type": "markdown",
   "id": "768abcf2",
   "metadata": {},
   "source": [
    "#### initial responder : initial draft of the answer "
   ]
  },
  {
   "cell_type": "code",
   "execution_count": 31,
   "id": "1e1c11b9",
   "metadata": {},
   "outputs": [
    {
     "name": "stdout",
     "output_type": "stream",
     "text": [
      "\n"
     ]
    }
   ],
   "source": [
    "first_responder_prompt = prompt_template.partial(first_instruction=\"Provide a detailed ~250 word answer\")\n",
    "temp_chain = first_responder_prompt| llm\n",
    "response = temp_chain.invoke({\"messages\": [HumanMessage(content=question)]})\n",
    "print(response.content)"
   ]
  },
  {
   "cell_type": "code",
   "execution_count": 27,
   "id": "a0506c30",
   "metadata": {},
   "outputs": [],
   "source": [
    "class Reflection(BaseModel):\n",
    "\tmissing: str = Field(description=\"What information is missing\")\n",
    "\tsuperfluous: str = Field(description=\"What information is unnecessary\")\n",
    "\n",
    "class AnswerQuestion(BaseModel):\n",
    "\tanswer: str = Field(description=\"Main response to the question\")\n",
    "\treflection: Reflection = Field(description=\"Self-critique of the answer\")\n",
    "\tsearch_queries: List[str] = Field(description=\"Queries for additional research\")"
   ]
  },
  {
   "cell_type": "code",
   "execution_count": 30,
   "id": "89bb8584",
   "metadata": {},
   "outputs": [
    {
     "name": "stdout",
     "output_type": "stream",
     "text": [
      "What are the top 3 best frameworks for building agentic AI in 2025? (for example: langchain)\n",
      "---Full Structured Output---\n",
      "[]\n"
     ]
    }
   ],
   "source": [
    "print(question)\n",
    "initial_chain = first_responder_prompt| llm.bind_tools(tools=[AnswerQuestion])\n",
    "response=initial_chain.invoke({\"messages\":[HumanMessage(question)]})\n",
    "print(\"---Full Structured Output---\")\n",
    "print(response.tool_calls)"
   ]
  },
  {
   "cell_type": "code",
   "execution_count": 29,
   "id": "ff27479c",
   "metadata": {},
   "outputs": [
    {
     "ename": "IndexError",
     "evalue": "list index out of range",
     "output_type": "error",
     "traceback": [
      "\u001b[31m---------------------------------------------------------------------------\u001b[39m",
      "\u001b[31mIndexError\u001b[39m                                Traceback (most recent call last)",
      "\u001b[36mCell\u001b[39m\u001b[36m \u001b[39m\u001b[32mIn[29]\u001b[39m\u001b[32m, line 1\u001b[39m\n\u001b[32m----> \u001b[39m\u001b[32m1\u001b[39m answer_content = \u001b[43mresponse\u001b[49m\u001b[43m.\u001b[49m\u001b[43mtool_calls\u001b[49m\u001b[43m[\u001b[49m\u001b[32;43m0\u001b[39;49m\u001b[43m]\u001b[49m[\u001b[33m'\u001b[39m\u001b[33margs\u001b[39m\u001b[33m'\u001b[39m][\u001b[33m'\u001b[39m\u001b[33manswer\u001b[39m\u001b[33m'\u001b[39m]\n\u001b[32m      2\u001b[39m \u001b[38;5;28mprint\u001b[39m(\u001b[33m\"\u001b[39m\u001b[33m---Initial Answer---\u001b[39m\u001b[33m\"\u001b[39m)\n\u001b[32m      3\u001b[39m \u001b[38;5;28mprint\u001b[39m(answer_content)\n",
      "\u001b[31mIndexError\u001b[39m: list index out of range"
     ]
    }
   ],
   "source": [
    "answer_content = response.tool_calls[0]['args']['answer']\n",
    "print(\"---Initial Answer---\")\n",
    "print(answer_content)"
   ]
  },
  {
   "cell_type": "code",
   "execution_count": null,
   "id": "71f5790c",
   "metadata": {},
   "outputs": [],
   "source": []
  }
 ],
 "metadata": {
  "kernelspec": {
   "display_name": "agenticrag",
   "language": "python",
   "name": "python3"
  },
  "language_info": {
   "codemirror_mode": {
    "name": "ipython",
    "version": 3
   },
   "file_extension": ".py",
   "mimetype": "text/x-python",
   "name": "python",
   "nbconvert_exporter": "python",
   "pygments_lexer": "ipython3",
   "version": "3.12.3"
  }
 },
 "nbformat": 4,
 "nbformat_minor": 5
}
