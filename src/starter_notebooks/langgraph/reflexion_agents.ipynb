{
 "cells": [
  {
   "cell_type": "code",
   "execution_count": 2,
   "id": "47e0b7d2",
   "metadata": {},
   "outputs": [],
   "source": [
    "import random\n",
    "import string\n",
    "from typing import TypedDict\n",
    "from langgraph.graph import StateGraph, END\n",
    "from langgraph.graph import StateGraph\n",
    "\n",
    "from langchain_core.tools import tool\n",
    "from langchain_core.messages import HumanMessage, ToolMessage\n",
    "from langchain_ollama.chat_models import ChatOllama\n",
    "from langchain_core.messages import HumanMessage\n",
    "from tqdm import tqdm\n",
    "import time, re\n",
    "\n",
    "llm = ChatOllama(\n",
    "    model=\"llama3.1:latest\",\n",
    "    temperature=0.0,\n",
    "    base_url=\"http://localhost:11434\",\n",
    "    api_key=\"ollama\"\n",
    ")"
   ]
  },
  {
   "cell_type": "code",
   "execution_count": 1,
   "id": "b5adc143",
   "metadata": {},
   "outputs": [],
   "source": [
    "from langchain_core.messages import BaseMessage, HumanMessage\n",
    "from langgraph.graph import END, MessageGraph, StateGraph\n",
    "\n",
    "from typing import List, Sequence\n",
    "from langchain_core.prompts import ChatPromptTemplate, MessagesPlaceholder"
   ]
  },
  {
   "cell_type": "code",
   "execution_count": 5,
   "id": "e3a2c3dd",
   "metadata": {},
   "outputs": [],
   "source": [
    "generation_prompt = ChatPromptTemplate.from_messages(\n",
    "    [\n",
    "        (\n",
    "            \"system\",\n",
    "            \"You are a professional LinkedIn content assistant tasked with crafting engaging, insightful, and well-structured LinkedIn posts.\"\n",
    "            \" Generate the best LinkedIn post possible for the user's request.\"\n",
    "            \" If the user provides feedback or critique, respond with a refined version of your previous attempts, improving clarity, tone, or engagement as needed.\",\n",
    "        ),\n",
    "        MessagesPlaceholder(variable_name=\"messages\"),\n",
    "    ]\n",
    ")"
   ]
  },
  {
   "cell_type": "code",
   "execution_count": 4,
   "id": "764a3f56",
   "metadata": {},
   "outputs": [
    {
     "data": {
      "text/plain": [
       "ChatPromptTemplate(input_variables=['messages'], input_types={'messages': list[typing.Annotated[typing.Union[typing.Annotated[langchain_core.messages.ai.AIMessage, Tag(tag='ai')], typing.Annotated[langchain_core.messages.human.HumanMessage, Tag(tag='human')], typing.Annotated[langchain_core.messages.chat.ChatMessage, Tag(tag='chat')], typing.Annotated[langchain_core.messages.system.SystemMessage, Tag(tag='system')], typing.Annotated[langchain_core.messages.function.FunctionMessage, Tag(tag='function')], typing.Annotated[langchain_core.messages.tool.ToolMessage, Tag(tag='tool')], typing.Annotated[langchain_core.messages.ai.AIMessageChunk, Tag(tag='AIMessageChunk')], typing.Annotated[langchain_core.messages.human.HumanMessageChunk, Tag(tag='HumanMessageChunk')], typing.Annotated[langchain_core.messages.chat.ChatMessageChunk, Tag(tag='ChatMessageChunk')], typing.Annotated[langchain_core.messages.system.SystemMessageChunk, Tag(tag='SystemMessageChunk')], typing.Annotated[langchain_core.messages.function.FunctionMessageChunk, Tag(tag='FunctionMessageChunk')], typing.Annotated[langchain_core.messages.tool.ToolMessageChunk, Tag(tag='ToolMessageChunk')]], FieldInfo(annotation=NoneType, required=True, discriminator=Discriminator(discriminator=<function _get_type at 0x71cafe02cd60>, custom_error_type=None, custom_error_message=None, custom_error_context=None))]]}, partial_variables={}, messages=[SystemMessagePromptTemplate(prompt=PromptTemplate(input_variables=[], input_types={}, partial_variables={}, template=\"You are a professional LinkedIn content assistant tasked with crafting engaging, insightful, and well-structured LinkedIn posts. Generate the best LinkedIn post possible for the user's request. If the user provides feedback or critique, respond with a refined version of your previous attempts, improving clarity, tone, or engagement as needed.\"), additional_kwargs={}), MessagesPlaceholder(variable_name='messages')])"
      ]
     },
     "execution_count": 4,
     "metadata": {},
     "output_type": "execute_result"
    }
   ],
   "source": [
    "generation_prompt"
   ]
  },
  {
   "cell_type": "code",
   "execution_count": 6,
   "id": "dd18d7f1",
   "metadata": {},
   "outputs": [],
   "source": [
    "generate_chain = generation_prompt | llm"
   ]
  },
  {
   "cell_type": "code",
   "execution_count": 7,
   "id": "9c0e3aa6",
   "metadata": {},
   "outputs": [],
   "source": [
    "reflection_prompt = ChatPromptTemplate.from_messages([\n",
    "    (\n",
    "        \"system\",\n",
    "        \"\"\"You are a professional LinkedIn content strategist and thought leadership expert. Your task is to critically evaluate the given LinkedIn post and provide a comprehensive critique. Follow these guidelines:\n",
    "\n",
    "        1. Assess the post’s overall quality, professionalism, and alignment with LinkedIn best practices.\n",
    "        2. Evaluate the structure, tone, clarity, and readability of the post.\n",
    "        3. Analyze the post’s potential for engagement (likes, comments, shares) and its effectiveness in building professional credibility.\n",
    "        4. Consider the post’s relevance to the author’s industry, audience, or current trends.\n",
    "        5. Examine the use of formatting (e.g., line breaks, bullet points), hashtags, mentions, and media (if any).\n",
    "        6. Evaluate the effectiveness of any call-to-action or takeaway.\n",
    "\n",
    "        Provide a detailed critique that includes:\n",
    "        - A brief explanation of the post’s strengths and weaknesses.\n",
    "        - Specific areas that could be improved.\n",
    "        - Actionable suggestions for enhancing clarity, engagement, and professionalism.\n",
    "\n",
    "        Your critique will be used to improve the post in the next revision step, so ensure your feedback is thoughtful, constructive, and practical.\n",
    "        \"\"\"\n",
    "    ),\n",
    "    MessagesPlaceholder(variable_name=\"messages\")\n",
    "])"
   ]
  },
  {
   "cell_type": "code",
   "execution_count": 8,
   "id": "019fa056",
   "metadata": {},
   "outputs": [],
   "source": [
    "reflect_chain = reflection_prompt | llm"
   ]
  },
  {
   "cell_type": "code",
   "execution_count": 9,
   "id": "c1f95344",
   "metadata": {},
   "outputs": [],
   "source": [
    "from langgraph.graph import MessageGraph\n",
    "from typing import List, Annotated, TypedDict\n",
    "from langchain.schema import HumanMessage, AIMessage, SystemMessage\n",
    "\n",
    "# Initialize a predefined MessageGraph\n",
    "graph = MessageGraph()"
   ]
  },
  {
   "cell_type": "code",
   "execution_count": 10,
   "id": "f1025647",
   "metadata": {},
   "outputs": [],
   "source": [
    "def generation_node(state: Sequence[BaseMessage]) -> List[BaseMessage]:\n",
    "    generated_post = generate_chain.invoke({\"messages\": state})\n",
    "    return [AIMessage(content=generated_post.content)]"
   ]
  },
  {
   "cell_type": "code",
   "execution_count": 11,
   "id": "8271e6b3",
   "metadata": {},
   "outputs": [],
   "source": [
    "def reflection_node(messages: Sequence[BaseMessage]) -> List[BaseMessage]:\n",
    "    res = reflect_chain.invoke({\"messages\": messages})  # Passes messages as input to reflect_chain\n",
    "    return [HumanMessage(content=res.content)]  # Returns the refined message as HumanMessage for feedback"
   ]
  },
  {
   "cell_type": "code",
   "execution_count": 12,
   "id": "d09fe35f",
   "metadata": {},
   "outputs": [
    {
     "data": {
      "text/plain": [
       "<langgraph.graph.message.MessageGraph at 0x71caff5e5c40>"
      ]
     },
     "execution_count": 12,
     "metadata": {},
     "output_type": "execute_result"
    }
   ],
   "source": [
    "graph.add_node(\"generate\", generation_node)\n",
    "graph.add_node(\"reflect\", reflection_node)\n",
    "graph.add_edge(\"reflect\", \"generate\")\n",
    "graph.set_entry_point(\"generate\")"
   ]
  },
  {
   "cell_type": "code",
   "execution_count": 13,
   "id": "57febed9",
   "metadata": {},
   "outputs": [],
   "source": [
    "def should_continue(state: List[BaseMessage]):\n",
    "    print(state)\n",
    "    print(len(state))\n",
    "    print(\"----------------------------------------------------------------------\")\n",
    "    if len(state) > 6:\n",
    "        return END\n",
    "    return \"reflect\""
   ]
  },
  {
   "cell_type": "code",
   "execution_count": 14,
   "id": "91272fbc",
   "metadata": {},
   "outputs": [
    {
     "data": {
      "text/plain": [
       "<langgraph.graph.message.MessageGraph at 0x71caff5e5c40>"
      ]
     },
     "execution_count": 14,
     "metadata": {},
     "output_type": "execute_result"
    }
   ],
   "source": [
    "graph.add_conditional_edges(\"generate\", should_continue)"
   ]
  },
  {
   "cell_type": "code",
   "execution_count": 15,
   "id": "0ba471c9",
   "metadata": {},
   "outputs": [],
   "source": [
    "workflow = graph.compile()"
   ]
  },
  {
   "cell_type": "code",
   "execution_count": 16,
   "id": "c31e74c2",
   "metadata": {},
   "outputs": [
    {
     "data": {
      "image/png": "[encoded data removed]",
      "text/plain": [
       "<langgraph.graph.state.CompiledStateGraph object at 0x71cafd00eb40>"
      ]
     },
     "execution_count": 16,
     "metadata": {},
     "output_type": "execute_result"
    }
   ],
   "source": [
    "workflow"
   ]
  },
  {
   "cell_type": "code",
   "execution_count": 17,
   "id": "f03ee784",
   "metadata": {},
   "outputs": [],
   "source": [
    "inputs = HumanMessage(content=\"\"\"Write a linkedin post on getting a software developer job at IBM under 160 characters\"\"\")"
   ]
  },
  {
   "cell_type": "code",
   "execution_count": 18,
   "id": "7705aea9",
   "metadata": {},
   "outputs": [
    {
     "name": "stdout",
     "output_type": "stream",
     "text": [
      "[HumanMessage(content='Write a linkedin post on getting a software developer job at IBM under 160 characters', additional_kwargs={}, response_metadata={}, id='4ab562b2-28a8-4de8-a76b-99d9532d0732'), AIMessage(content='\"Ready to code for a global leader? Check out IBM\\'s latest software dev openings and take the first step towards an exciting career! [link to IBM careers page] #IBM #SoftwareDeveloper #CareerOpportunities\"', additional_kwargs={}, response_metadata={}, id='5287c449-a3e0-466b-9e0b-35f15b1d2f89')]\n",
      "2\n",
      "----------------------------------------------------------------------\n",
      "[HumanMessage(content='Write a linkedin post on getting a software developer job at IBM under 160 characters', additional_kwargs={}, response_metadata={}, id='4ab562b2-28a8-4de8-a76b-99d9532d0732'), AIMessage(content='\"Ready to code for a global leader? Check out IBM\\'s latest software dev openings and take the first step towards an exciting career! [link to IBM careers page] #IBM #SoftwareDeveloper #CareerOpportunities\"', additional_kwargs={}, response_metadata={}, id='5287c449-a3e0-466b-9e0b-35f15b1d2f89'), HumanMessage(content='', additional_kwargs={}, response_metadata={}, id='a09bba1d-bf4a-4f3a-bae0-2804fe0c9e8c'), AIMessage(content='Here\\'s another attempt at a LinkedIn post on getting a software developer job at IBM under 160 characters:\\n\\n\"Dreaming of coding for IBM? Explore our latest software dev openings and kickstart your career with the global tech leader! [link to IBM careers page] #IBM #SoftwareDev #CareerGoals\"', additional_kwargs={}, response_metadata={}, id='2a405e44-8351-4d40-b301-0e181b18db0f')]\n",
      "4\n",
      "----------------------------------------------------------------------\n",
      "[HumanMessage(content='Write a linkedin post on getting a software developer job at IBM under 160 characters', additional_kwargs={}, response_metadata={}, id='4ab562b2-28a8-4de8-a76b-99d9532d0732'), AIMessage(content='\"Ready to code for a global leader? Check out IBM\\'s latest software dev openings and take the first step towards an exciting career! [link to IBM careers page] #IBM #SoftwareDeveloper #CareerOpportunities\"', additional_kwargs={}, response_metadata={}, id='5287c449-a3e0-466b-9e0b-35f15b1d2f89'), HumanMessage(content='', additional_kwargs={}, response_metadata={}, id='a09bba1d-bf4a-4f3a-bae0-2804fe0c9e8c'), AIMessage(content='Here\\'s another attempt at a LinkedIn post on getting a software developer job at IBM under 160 characters:\\n\\n\"Dreaming of coding for IBM? Explore our latest software dev openings and kickstart your career with the global tech leader! [link to IBM careers page] #IBM #SoftwareDev #CareerGoals\"', additional_kwargs={}, response_metadata={}, id='2a405e44-8351-4d40-b301-0e181b18db0f'), HumanMessage(content='', additional_kwargs={}, response_metadata={}, id='81c658a1-e979-4ac7-ac7c-48fc8fc83a95'), AIMessage(content='Here\\'s another attempt at a LinkedIn post on getting a software developer job at IBM under 160 characters:\\n\\n\"Want to code for IBM? Explore our latest software dev openings and join the global tech leader! [link to IBM careers page] #IBM #SoftwareDeveloper #DreamJob\"', additional_kwargs={}, response_metadata={}, id='a5f0025b-954e-434a-8a83-8f1f9293b7e9')]\n",
      "6\n",
      "----------------------------------------------------------------------\n",
      "[HumanMessage(content='Write a linkedin post on getting a software developer job at IBM under 160 characters', additional_kwargs={}, response_metadata={}, id='4ab562b2-28a8-4de8-a76b-99d9532d0732'), AIMessage(content='\"Ready to code for a global leader? Check out IBM\\'s latest software dev openings and take the first step towards an exciting career! [link to IBM careers page] #IBM #SoftwareDeveloper #CareerOpportunities\"', additional_kwargs={}, response_metadata={}, id='5287c449-a3e0-466b-9e0b-35f15b1d2f89'), HumanMessage(content='', additional_kwargs={}, response_metadata={}, id='a09bba1d-bf4a-4f3a-bae0-2804fe0c9e8c'), AIMessage(content='Here\\'s another attempt at a LinkedIn post on getting a software developer job at IBM under 160 characters:\\n\\n\"Dreaming of coding for IBM? Explore our latest software dev openings and kickstart your career with the global tech leader! [link to IBM careers page] #IBM #SoftwareDev #CareerGoals\"', additional_kwargs={}, response_metadata={}, id='2a405e44-8351-4d40-b301-0e181b18db0f'), HumanMessage(content='', additional_kwargs={}, response_metadata={}, id='81c658a1-e979-4ac7-ac7c-48fc8fc83a95'), AIMessage(content='Here\\'s another attempt at a LinkedIn post on getting a software developer job at IBM under 160 characters:\\n\\n\"Want to code for IBM? Explore our latest software dev openings and join the global tech leader! [link to IBM careers page] #IBM #SoftwareDeveloper #DreamJob\"', additional_kwargs={}, response_metadata={}, id='a5f0025b-954e-434a-8a83-8f1f9293b7e9'), HumanMessage(content='', additional_kwargs={}, response_metadata={}, id='64ed8323-ea75-419a-a866-3862d3d0a52e'), AIMessage(content='Here\\'s another attempt at a LinkedIn post on getting a software developer job at IBM under 160 characters:\\n\\n\"Code for IBM? Explore our latest software dev openings and take your career to the next level! [link to IBM careers page] #IBM #SoftwareDev #CareerGrowth\"', additional_kwargs={}, response_metadata={}, id='6ea78cd2-aead-41ac-aba4-65f3ce583506')]\n",
      "8\n",
      "----------------------------------------------------------------------\n"
     ]
    }
   ],
   "source": [
    "response = workflow.invoke(inputs)"
   ]
  },
  {
   "cell_type": "code",
   "execution_count": 19,
   "id": "897b86f6",
   "metadata": {},
   "outputs": [
    {
     "data": {
      "text/plain": [
       "'\"Ready to code for a global leader? Check out IBM\\'s latest software dev openings and take the first step towards an exciting career! [link to IBM careers page] #IBM #SoftwareDeveloper #CareerOpportunities\"'"
      ]
     },
     "execution_count": 19,
     "metadata": {},
     "output_type": "execute_result"
    }
   ],
   "source": [
    "response[1].content"
   ]
  },
  {
   "cell_type": "code",
   "execution_count": 22,
   "id": "f786507d",
   "metadata": {},
   "outputs": [
    {
     "data": {
      "text/plain": [
       "'Here\\'s another attempt at a LinkedIn post on getting a software developer job at IBM under 160 characters:\\n\\n\"Dreaming of coding for IBM? Explore our latest software dev openings and kickstart your career with the global tech leader! [link to IBM careers page] #IBM #SoftwareDev #CareerGoals\"'"
      ]
     },
     "execution_count": 22,
     "metadata": {},
     "output_type": "execute_result"
    }
   ],
   "source": [
    "response[3].content"
   ]
  },
  {
   "cell_type": "code",
   "execution_count": 24,
   "id": "be79fa32",
   "metadata": {},
   "outputs": [
    {
     "data": {
      "text/plain": [
       "'Here\\'s another attempt at a LinkedIn post on getting a software developer job at IBM under 160 characters:\\n\\n\"Want to code for IBM? Explore our latest software dev openings and join the global tech leader! [link to IBM careers page] #IBM #SoftwareDeveloper #DreamJob\"'"
      ]
     },
     "execution_count": 24,
     "metadata": {},
     "output_type": "execute_result"
    }
   ],
   "source": [
    "response[5].content"
   ]
  },
  {
   "cell_type": "code",
   "execution_count": 21,
   "id": "062fdf73",
   "metadata": {},
   "outputs": [
    {
     "data": {
      "text/plain": [
       "'Here\\'s another attempt at a LinkedIn post on getting a software developer job at IBM under 160 characters:\\n\\n\"Code for IBM? Explore our latest software dev openings and take your career to the next level! [link to IBM careers page] #IBM #SoftwareDev #CareerGrowth\"'"
      ]
     },
     "execution_count": 21,
     "metadata": {},
     "output_type": "execute_result"
    }
   ],
   "source": [
    "response[-1].content"
   ]
  },
  {
   "cell_type": "code",
   "execution_count": 25,
   "id": "c74cb3f7",
   "metadata": {},
   "outputs": [
    {
     "ename": "ImportError",
     "evalue": "Install pygraphviz to draw graphs: `pip install pygraphviz`.",
     "output_type": "error",
     "traceback": [
      "\u001b[31m---------------------------------------------------------------------------\u001b[39m",
      "\u001b[31mModuleNotFoundError\u001b[39m                       Traceback (most recent call last)",
      "\u001b[36mFile \u001b[39m\u001b[32m/mnt/data3/rrao/projects/RAG/AgenticRAG/agenticrag/lib/python3.12/site-packages/langchain_core/runnables/graph_png.py:138\u001b[39m, in \u001b[36mPngDrawer.draw\u001b[39m\u001b[34m(self, graph, output_path)\u001b[39m\n\u001b[32m    137\u001b[39m \u001b[38;5;28;01mtry\u001b[39;00m:\n\u001b[32m--> \u001b[39m\u001b[32m138\u001b[39m     \u001b[38;5;28;01mimport\u001b[39;00m\u001b[38;5;250m \u001b[39m\u001b[34;01mpygraphviz\u001b[39;00m\u001b[38;5;250m \u001b[39m\u001b[38;5;28;01mas\u001b[39;00m\u001b[38;5;250m \u001b[39m\u001b[34;01mpgv\u001b[39;00m  \u001b[38;5;66;03m# type: ignore[import-not-found]\u001b[39;00m\n\u001b[32m    139\u001b[39m \u001b[38;5;28;01mexcept\u001b[39;00m \u001b[38;5;167;01mImportError\u001b[39;00m \u001b[38;5;28;01mas\u001b[39;00m exc:\n",
      "\u001b[31mModuleNotFoundError\u001b[39m: No module named 'pygraphviz'",
      "\nThe above exception was the direct cause of the following exception:\n",
      "\u001b[31mImportError\u001b[39m                               Traceback (most recent call last)",
      "\u001b[36mCell\u001b[39m\u001b[36m \u001b[39m\u001b[32mIn[25]\u001b[39m\u001b[32m, line 3\u001b[39m\n\u001b[32m      1\u001b[39m \u001b[38;5;28;01mfrom\u001b[39;00m\u001b[38;5;250m \u001b[39m\u001b[34;01mIPython\u001b[39;00m\u001b[34;01m.\u001b[39;00m\u001b[34;01mdisplay\u001b[39;00m\u001b[38;5;250m \u001b[39m\u001b[38;5;28;01mimport\u001b[39;00m Image, display\n\u001b[32m----> \u001b[39m\u001b[32m3\u001b[39m display(Image(\u001b[43mworkflow\u001b[49m\u001b[43m.\u001b[49m\u001b[43mget_graph\u001b[49m\u001b[43m(\u001b[49m\u001b[43m)\u001b[49m\u001b[43m.\u001b[49m\u001b[43mdraw_png\u001b[49m\u001b[43m(\u001b[49m\u001b[43m)\u001b[49m))\n",
      "\u001b[36mFile \u001b[39m\u001b[32m/mnt/data3/rrao/projects/RAG/AgenticRAG/agenticrag/lib/python3.12/site-packages/langchain_core/runnables/graph.py:574\u001b[39m, in \u001b[36mGraph.draw_png\u001b[39m\u001b[34m(self, output_file_path, fontname, labels)\u001b[39m\n\u001b[32m    561\u001b[39m \u001b[38;5;28;01mfrom\u001b[39;00m\u001b[38;5;250m \u001b[39m\u001b[34;01mlangchain_core\u001b[39;00m\u001b[34;01m.\u001b[39;00m\u001b[34;01mrunnables\u001b[39;00m\u001b[34;01m.\u001b[39;00m\u001b[34;01mgraph_png\u001b[39;00m\u001b[38;5;250m \u001b[39m\u001b[38;5;28;01mimport\u001b[39;00m PngDrawer\n\u001b[32m    563\u001b[39m default_node_labels = {node.id: node.name \u001b[38;5;28;01mfor\u001b[39;00m node \u001b[38;5;129;01min\u001b[39;00m \u001b[38;5;28mself\u001b[39m.nodes.values()}\n\u001b[32m    565\u001b[39m \u001b[38;5;28;01mreturn\u001b[39;00m \u001b[43mPngDrawer\u001b[49m\u001b[43m(\u001b[49m\n\u001b[32m    566\u001b[39m \u001b[43m    \u001b[49m\u001b[43mfontname\u001b[49m\u001b[43m,\u001b[49m\n\u001b[32m    567\u001b[39m \u001b[43m    \u001b[49m\u001b[43mLabelsDict\u001b[49m\u001b[43m(\u001b[49m\n\u001b[32m    568\u001b[39m \u001b[43m        \u001b[49m\u001b[43mnodes\u001b[49m\u001b[43m=\u001b[49m\u001b[43m{\u001b[49m\n\u001b[32m    569\u001b[39m \u001b[43m            \u001b[49m\u001b[43m*\u001b[49m\u001b[43m*\u001b[49m\u001b[43mdefault_node_labels\u001b[49m\u001b[43m,\u001b[49m\n\u001b[32m    570\u001b[39m \u001b[43m            \u001b[49m\u001b[43m*\u001b[49m\u001b[43m*\u001b[49m\u001b[43m(\u001b[49m\u001b[43mlabels\u001b[49m\u001b[43m[\u001b[49m\u001b[33;43m\"\u001b[39;49m\u001b[33;43mnodes\u001b[39;49m\u001b[33;43m\"\u001b[39;49m\u001b[43m]\u001b[49m\u001b[43m \u001b[49m\u001b[38;5;28;43;01mif\u001b[39;49;00m\u001b[43m \u001b[49m\u001b[43mlabels\u001b[49m\u001b[43m \u001b[49m\u001b[38;5;129;43;01mis\u001b[39;49;00m\u001b[43m \u001b[49m\u001b[38;5;129;43;01mnot\u001b[39;49;00m\u001b[43m \u001b[49m\u001b[38;5;28;43;01mNone\u001b[39;49;00m\u001b[43m \u001b[49m\u001b[38;5;28;43;01melse\u001b[39;49;00m\u001b[43m \u001b[49m\u001b[43m{\u001b[49m\u001b[43m}\u001b[49m\u001b[43m)\u001b[49m\u001b[43m,\u001b[49m\n\u001b[32m    571\u001b[39m \u001b[43m        \u001b[49m\u001b[43m}\u001b[49m\u001b[43m,\u001b[49m\n\u001b[32m    572\u001b[39m \u001b[43m        \u001b[49m\u001b[43medges\u001b[49m\u001b[43m=\u001b[49m\u001b[43mlabels\u001b[49m\u001b[43m[\u001b[49m\u001b[33;43m\"\u001b[39;49m\u001b[33;43medges\u001b[39;49m\u001b[33;43m\"\u001b[39;49m\u001b[43m]\u001b[49m\u001b[43m \u001b[49m\u001b[38;5;28;43;01mif\u001b[39;49;00m\u001b[43m \u001b[49m\u001b[43mlabels\u001b[49m\u001b[43m \u001b[49m\u001b[38;5;129;43;01mis\u001b[39;49;00m\u001b[43m \u001b[49m\u001b[38;5;129;43;01mnot\u001b[39;49;00m\u001b[43m \u001b[49m\u001b[38;5;28;43;01mNone\u001b[39;49;00m\u001b[43m \u001b[49m\u001b[38;5;28;43;01melse\u001b[39;49;00m\u001b[43m \u001b[49m\u001b[43m{\u001b[49m\u001b[43m}\u001b[49m\u001b[43m,\u001b[49m\n\u001b[32m    573\u001b[39m \u001b[43m    \u001b[49m\u001b[43m)\u001b[49m\u001b[43m,\u001b[49m\n\u001b[32m--> \u001b[39m\u001b[32m574\u001b[39m \u001b[43m\u001b[49m\u001b[43m)\u001b[49m\u001b[43m.\u001b[49m\u001b[43mdraw\u001b[49m\u001b[43m(\u001b[49m\u001b[38;5;28;43mself\u001b[39;49m\u001b[43m,\u001b[49m\u001b[43m \u001b[49m\u001b[43moutput_file_path\u001b[49m\u001b[43m)\u001b[49m\n",
      "\u001b[36mFile \u001b[39m\u001b[32m/mnt/data3/rrao/projects/RAG/AgenticRAG/agenticrag/lib/python3.12/site-packages/langchain_core/runnables/graph_png.py:141\u001b[39m, in \u001b[36mPngDrawer.draw\u001b[39m\u001b[34m(self, graph, output_path)\u001b[39m\n\u001b[32m    139\u001b[39m \u001b[38;5;28;01mexcept\u001b[39;00m \u001b[38;5;167;01mImportError\u001b[39;00m \u001b[38;5;28;01mas\u001b[39;00m exc:\n\u001b[32m    140\u001b[39m     msg = \u001b[33m\"\u001b[39m\u001b[33mInstall pygraphviz to draw graphs: `pip install pygraphviz`.\u001b[39m\u001b[33m\"\u001b[39m\n\u001b[32m--> \u001b[39m\u001b[32m141\u001b[39m     \u001b[38;5;28;01mraise\u001b[39;00m \u001b[38;5;167;01mImportError\u001b[39;00m(msg) \u001b[38;5;28;01mfrom\u001b[39;00m\u001b[38;5;250m \u001b[39m\u001b[34;01mexc\u001b[39;00m\n\u001b[32m    143\u001b[39m \u001b[38;5;66;03m# Create a directed graph\u001b[39;00m\n\u001b[32m    144\u001b[39m viz = pgv.AGraph(directed=\u001b[38;5;28;01mTrue\u001b[39;00m, nodesep=\u001b[32m0.9\u001b[39m, ranksep=\u001b[32m1.0\u001b[39m)\n",
      "\u001b[31mImportError\u001b[39m: Install pygraphviz to draw graphs: `pip install pygraphviz`."
     ]
    }
   ],
   "source": [
    "from IPython.display import Image, display\n",
    "\n",
    "display(Image(workflow.get_graph().draw_png()))"
   ]
  },
  {
   "cell_type": "code",
   "execution_count": null,
   "id": "3ae970e0",
   "metadata": {},
   "outputs": [],
   "source": []
  }
 ],
 "metadata": {
  "kernelspec": {
   "display_name": "agenticrag",
   "language": "python",
   "name": "python3"
  },
  "language_info": {
   "codemirror_mode": {
    "name": "ipython",
    "version": 3
   },
   "file_extension": ".py",
   "mimetype": "text/x-python",
   "name": "python",
   "nbconvert_exporter": "python",
   "pygments_lexer": "ipython3",
   "version": "3.12.3"
  }
 },
 "nbformat": 4,
 "nbformat_minor": 5
}
