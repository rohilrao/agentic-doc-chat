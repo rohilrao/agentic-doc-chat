{
 "cells": [
  {
   "cell_type": "code",
   "execution_count": 1,
   "id": "87cde0e4",
   "metadata": {},
   "outputs": [],
   "source": [
    "from langchain_core.tools import tool\n",
    "from langchain_core.messages import HumanMessage, ToolMessage\n",
    "from langchain_ollama.chat_models import ChatOllama\n",
    "from langchain_core.messages import HumanMessage\n",
    "from tqdm import tqdm\n",
    "import time, re\n",
    "\n",
    "llm = ChatOllama(\n",
    "    model=\"llama3.1:latest\",\n",
    "    temperature=0.0,\n",
    "    base_url=\"http://localhost:11434\",\n",
    "    api_key=\"ollama\"\n",
    ")"
   ]
  },
  {
   "cell_type": "code",
   "execution_count": 2,
   "id": "27733e41",
   "metadata": {},
   "outputs": [],
   "source": [
    "from typing import TypedDict, Optional\n",
    "\n",
    "class AuthState(TypedDict):\n",
    "    username: Optional[str] \n",
    "    password: Optional[str]\n",
    "    is_authenticated: Optional[bool]\n",
    "    output: Optional[str]"
   ]
  },
  {
   "cell_type": "code",
   "execution_count": 3,
   "id": "cae6221c",
   "metadata": {},
   "outputs": [],
   "source": [
    "def input_node(state):\n",
    "    print(state)\n",
    "    if state.get('username', \"\") ==\"\":\n",
    "        state['username'] = input(\"What is your username?\")\n",
    "\n",
    "    password = input(\"Enter your password: \")\n",
    "\n",
    "    return {\"password\":password}"
   ]
  },
  {
   "cell_type": "code",
   "execution_count": 4,
   "id": "f2f5fd81",
   "metadata": {},
   "outputs": [
    {
     "name": "stdout",
     "output_type": "stream",
     "text": [
      "auth_state_1: {'username': 'alice123', 'password': '123', 'is_authenticated': True, 'output': 'Login successful.'}\n"
     ]
    }
   ],
   "source": [
    "auth_state_1: AuthState = {\n",
    "    \"username\": \"alice123\",\n",
    "    \"password\": \"123\",\n",
    "    \"is_authenticated\": True,\n",
    "    \"output\": \"Login successful.\"\n",
    "}\n",
    "print(f\"auth_state_1: {auth_state_1}\")"
   ]
  },
  {
   "cell_type": "code",
   "execution_count": 5,
   "id": "0e00052f",
   "metadata": {},
   "outputs": [
    {
     "name": "stdout",
     "output_type": "stream",
     "text": [
      "{'username': 'alice123', 'password': '123', 'is_authenticated': True, 'output': 'Login successful.'}\n"
     ]
    },
    {
     "data": {
      "text/plain": [
       "{'password': 'secure_password'}"
      ]
     },
     "execution_count": 5,
     "metadata": {},
     "output_type": "execute_result"
    }
   ],
   "source": [
    "input_node(auth_state_1)"
   ]
  },
  {
   "cell_type": "code",
   "execution_count": 6,
   "id": "be2ed76c",
   "metadata": {},
   "outputs": [],
   "source": [
    "def validate_credentials_node(state):\n",
    "    # Extract username and password from the state\n",
    "    username = state.get(\"username\", \"\")\n",
    "    password = state.get(\"password\", \"\")\n",
    "\n",
    "    print(\"Username :\", username, \"Password :\", password)\n",
    "    # Simulated credential validation\n",
    "    if username == \"test_user\" and password == \"secure_password\":\n",
    "        is_authenticated = True\n",
    "    else:\n",
    "        is_authenticated = False\n",
    "\n",
    "    # Return the updated state with authentication result\n",
    "    return {\"is_authenticated\": is_authenticated}"
   ]
  },
  {
   "cell_type": "code",
   "execution_count": 7,
   "id": "4d299183",
   "metadata": {},
   "outputs": [
    {
     "name": "stdout",
     "output_type": "stream",
     "text": [
      "Username : alice123 Password : 123\n"
     ]
    },
    {
     "data": {
      "text/plain": [
       "{'is_authenticated': False}"
      ]
     },
     "execution_count": 7,
     "metadata": {},
     "output_type": "execute_result"
    }
   ],
   "source": [
    "validate_credentials_node(auth_state_1)"
   ]
  },
  {
   "cell_type": "code",
   "execution_count": 8,
   "id": "196990c5",
   "metadata": {},
   "outputs": [],
   "source": [
    "# Define the success node\n",
    "def success_node(state):\n",
    "    return {\"output\": \"Authentication successful! Welcome.\"}"
   ]
  },
  {
   "cell_type": "code",
   "execution_count": 9,
   "id": "0aefa772",
   "metadata": {},
   "outputs": [],
   "source": [
    "def router(state):\n",
    "    if state['is_authenticated']:\n",
    "        return \"success_node\"\n",
    "    else:\n",
    "        return \"failure_node\""
   ]
  },
  {
   "cell_type": "code",
   "execution_count": 10,
   "id": "a7edd083",
   "metadata": {},
   "outputs": [
    {
     "data": {
      "text/plain": [
       "<langgraph.graph.state.StateGraph at 0x71778ce20b90>"
      ]
     },
     "execution_count": 10,
     "metadata": {},
     "output_type": "execute_result"
    }
   ],
   "source": [
    "from langgraph.graph import StateGraph\n",
    "from langgraph.graph import END\n",
    "\n",
    "# Create an instance of StateGraph with the GraphState structure\n",
    "workflow = StateGraph(AuthState)\n",
    "workflow"
   ]
  },
  {
   "cell_type": "code",
   "execution_count": null,
   "id": "4270d4ea",
   "metadata": {},
   "outputs": [
    {
     "data": {
      "text/plain": [
       "<langgraph.graph.state.StateGraph at 0x71778ce20b90>"
      ]
     },
     "execution_count": 16,
     "metadata": {},
     "output_type": "execute_result"
    }
   ],
   "source": [
    "workflow.add_node(\"InputNode\", input_node)\n",
    "workflow.add_node(\"ValidateCredential\", validate_credentials_node)\n",
    "workflow.add_node(\"SuccessNode\", success_node)\n",
    "workflow.add_node(\"FailureNode\", lambda state: {\"output\": \"Authentication failed. Please try again.\"})\n",
    "workflow.add_edge(\"InputNode\", \"ValidateCredential\")\n",
    "workflow.add_edge(\"SuccessNode\", END)\n",
    "workflow.add_edge(\"FailureNode\", \"InputNode\")"
   ]
  },
  {
   "cell_type": "code",
   "execution_count": null,
   "id": "fd83e730",
   "metadata": {},
   "outputs": [
    {
     "data": {
      "text/plain": [
       "<langgraph.graph.state.StateGraph at 0x71778ce20b90>"
      ]
     },
     "execution_count": 12,
     "metadata": {},
     "output_type": "execute_result"
    }
   ],
   "source": []
  },
  {
   "cell_type": "code",
   "execution_count": null,
   "id": "4f0aaadb",
   "metadata": {},
   "outputs": [],
   "source": []
  }
 ],
 "metadata": {
  "kernelspec": {
   "display_name": "agenticrag",
   "language": "python",
   "name": "python3"
  },
  "language_info": {
   "codemirror_mode": {
    "name": "ipython",
    "version": 3
   },
   "file_extension": ".py",
   "mimetype": "text/x-python",
   "name": "python",
   "nbconvert_exporter": "python",
   "pygments_lexer": "ipython3",
   "version": "3.12.3"
  }
 },
 "nbformat": 4,
 "nbformat_minor": 5
}
