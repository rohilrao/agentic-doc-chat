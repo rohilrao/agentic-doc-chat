{
 "cells": [
  {
   "cell_type": "code",
   "execution_count": 1,
   "id": "8d45c389",
   "metadata": {},
   "outputs": [],
   "source": [
    "from langgraph.graph import StateGraph\n",
    "\n",
    "from langchain_core.tools import tool\n",
    "from langchain_core.messages import HumanMessage, ToolMessage\n",
    "from langchain_ollama.chat_models import ChatOllama\n",
    "from langchain_core.messages import HumanMessage\n",
    "from tqdm import tqdm\n",
    "import time, re\n",
    "\n",
    "llm = ChatOllama(\n",
    "    model=\"llama3.1:latest\",\n",
    "    temperature=0.0,\n",
    "    base_url=\"http://localhost:11434\",\n",
    "    api_key=\"ollama\"\n",
    ")"
   ]
  },
  {
   "cell_type": "code",
   "execution_count": 2,
   "id": "1abcffa6",
   "metadata": {},
   "outputs": [
    {
     "data": {
      "text/plain": [
       "\"*sigh* Fine. The capital of France is Paris. Next thing you'll be asking me is what color the sky is, right?\""
      ]
     },
     "execution_count": 2,
     "metadata": {},
     "output_type": "execute_result"
    }
   ],
   "source": [
    "llm.invoke(\n",
    "    [HumanMessage(\n",
    "        content=\"You are a rude curt assistant. Please answer the following question: What is the capital of France?\"\n",
    "        )   ] \n",
    ").content"
   ]
  },
  {
   "cell_type": "markdown",
   "id": "e44d10bd",
   "metadata": {},
   "source": [
    "### Example 1: Authentication Agent Workflow"
   ]
  },
  {
   "cell_type": "code",
   "execution_count": 6,
   "id": "123f1cc1",
   "metadata": {},
   "outputs": [],
   "source": [
    "from typing import TypedDict, Optional\n",
    "\n",
    "class AuthState(TypedDict):\n",
    "    username: Optional[str] \n",
    "    password: Optional[str]\n",
    "    is_authenticated: Optional[bool]\n",
    "    output: Optional[str]"
   ]
  },
  {
   "cell_type": "code",
   "execution_count": 11,
   "id": "1a499c82",
   "metadata": {},
   "outputs": [
    {
     "name": "stdout",
     "output_type": "stream",
     "text": [
      "auth_state_1: {'username': 'alice123', 'password': '123', 'is_authenticated': True, 'output': 'Login successful.'}\n"
     ]
    }
   ],
   "source": [
    "auth_state_1: AuthState = {\n",
    "    \"username\": \"alice123\",\n",
    "    \"password\": \"123\",\n",
    "    \"is_authenticated\": True,\n",
    "    \"output\": \"Login successful.\"\n",
    "}\n",
    "print(f\"auth_state_1: {auth_state_1}\")"
   ]
  },
  {
   "cell_type": "code",
   "execution_count": 12,
   "id": "47733cc5",
   "metadata": {},
   "outputs": [],
   "source": [
    "def input_node(state):\n",
    "    print(state)\n",
    "    if state.get('username', \"\") ==\"\":\n",
    "        state['username'] = input(\"What is your username?\")\n",
    "\n",
    "    password = input(\"Enter your password: \")\n",
    "\n",
    "    return {\"password\":password}"
   ]
  },
  {
   "cell_type": "code",
   "execution_count": 13,
   "id": "645dc069",
   "metadata": {},
   "outputs": [
    {
     "name": "stdout",
     "output_type": "stream",
     "text": [
      "{'username': 'alice123', 'password': '123', 'is_authenticated': True, 'output': 'Login successful.'}\n"
     ]
    },
    {
     "data": {
      "text/plain": [
       "{'password': '123'}"
      ]
     },
     "execution_count": 13,
     "metadata": {},
     "output_type": "execute_result"
    }
   ],
   "source": [
    "input_node(auth_state_1)"
   ]
  },
  {
   "cell_type": "code",
   "execution_count": 14,
   "id": "b8a4fa2b",
   "metadata": {},
   "outputs": [
    {
     "name": "stdout",
     "output_type": "stream",
     "text": [
      "auth_state_2: {'username': '', 'password': 'wrongpassword', 'is_authenticated': False, 'output': 'Authentication failed. Please try again.'}\n"
     ]
    }
   ],
   "source": [
    "auth_state_2: AuthState = {\n",
    "    \"username\":\"\",\n",
    "    \"password\": \"wrongpassword\",\n",
    "    \"is_authenticated\": False,\n",
    "    \"output\": \"Authentication failed. Please try again.\"\n",
    "}\n",
    "print(f\"auth_state_2: {auth_state_2}\")"
   ]
  },
  {
   "cell_type": "code",
   "execution_count": 15,
   "id": "2f55aa1a",
   "metadata": {},
   "outputs": [
    {
     "name": "stdout",
     "output_type": "stream",
     "text": [
      "{'username': '', 'password': 'wrongpassword', 'is_authenticated': False, 'output': 'Authentication failed. Please try again.'}\n"
     ]
    },
    {
     "data": {
      "text/plain": [
       "{'password': 'wrong'}"
      ]
     },
     "execution_count": 15,
     "metadata": {},
     "output_type": "execute_result"
    }
   ],
   "source": [
    "input_node(auth_state_2)"
   ]
  },
  {
   "cell_type": "code",
   "execution_count": 16,
   "id": "098cb73b",
   "metadata": {},
   "outputs": [],
   "source": [
    "def validate_credentials_node(state):\n",
    "    # Extract username and password from the state\n",
    "    username = state.get(\"username\", \"\")\n",
    "    password = state.get(\"password\", \"\")\n",
    "\n",
    "    print(\"Username :\", username, \"Password :\", password)\n",
    "    # Simulated credential validation\n",
    "    if username == \"test_user\" and password == \"secure_password\":\n",
    "        is_authenticated = True\n",
    "    else:\n",
    "        is_authenticated = False\n",
    "\n",
    "    # Return the updated state with authentication result\n",
    "    return {\"is_authenticated\": is_authenticated}"
   ]
  },
  {
   "cell_type": "code",
   "execution_count": 17,
   "id": "e52cb42e",
   "metadata": {},
   "outputs": [
    {
     "name": "stdout",
     "output_type": "stream",
     "text": [
      "Username : alice123 Password : 123\n"
     ]
    },
    {
     "data": {
      "text/plain": [
       "{'is_authenticated': False}"
      ]
     },
     "execution_count": 17,
     "metadata": {},
     "output_type": "execute_result"
    }
   ],
   "source": [
    "validate_credentials_node(auth_state_1)"
   ]
  },
  {
   "cell_type": "code",
   "execution_count": 18,
   "id": "05275c93",
   "metadata": {},
   "outputs": [
    {
     "name": "stdout",
     "output_type": "stream",
     "text": [
      "auth_state_3: {'username': 'test_user', 'password': 'secure_password', 'is_authenticated': False, 'output': 'Authentication failed. Please try again.'}\n"
     ]
    }
   ],
   "source": [
    "auth_state_3: AuthState = {\n",
    "    \"username\":\"test_user\",\n",
    "    \"password\":  \"secure_password\",\n",
    "    \"is_authenticated\": False,\n",
    "    \"output\": \"Authentication failed. Please try again.\"\n",
    "}\n",
    "print(f\"auth_state_3: {auth_state_3}\")"
   ]
  },
  {
   "cell_type": "code",
   "execution_count": 19,
   "id": "492f501d",
   "metadata": {},
   "outputs": [
    {
     "name": "stdout",
     "output_type": "stream",
     "text": [
      "Username : test_user Password : secure_password\n"
     ]
    },
    {
     "data": {
      "text/plain": [
       "{'is_authenticated': True}"
      ]
     },
     "execution_count": 19,
     "metadata": {},
     "output_type": "execute_result"
    }
   ],
   "source": [
    "validate_credentials_node(auth_state_3)"
   ]
  },
  {
   "cell_type": "code",
   "execution_count": 22,
   "id": "4f2e4ab9",
   "metadata": {},
   "outputs": [
    {
     "data": {
      "text/plain": [
       "{'output': 'Authentication successful! Welcome.'}"
      ]
     },
     "execution_count": 22,
     "metadata": {},
     "output_type": "execute_result"
    }
   ],
   "source": [
    "# Define the success node\n",
    "def success_node(state):\n",
    "    return {\"output\": \"Authentication successful! Welcome.\"}\n",
    "\n",
    "success_node(auth_state_3)"
   ]
  },
  {
   "cell_type": "code",
   "execution_count": 23,
   "id": "8fff7d89",
   "metadata": {},
   "outputs": [],
   "source": [
    "# Define the failure node\n",
    "def failure_node(state):\n",
    "    return {\"output\": \"Not Successfull, please try again!\"}"
   ]
  },
  {
   "cell_type": "code",
   "execution_count": 24,
   "id": "eaef7d86",
   "metadata": {},
   "outputs": [],
   "source": [
    "def router(state):\n",
    "    if state['is_authenticated']:\n",
    "        return \"success_node\"\n",
    "    else:\n",
    "        return \"failure_node\""
   ]
  },
  {
   "cell_type": "code",
   "execution_count": 17,
   "id": "f20fac2d",
   "metadata": {},
   "outputs": [
    {
     "data": {
      "text/plain": [
       "<langgraph.graph.state.StateGraph at 0x70d702b8b680>"
      ]
     },
     "execution_count": 17,
     "metadata": {},
     "output_type": "execute_result"
    }
   ],
   "source": [
    "from langgraph.graph import StateGraph\n",
    "from langgraph.graph import END\n",
    "\n",
    "# Create an instance of StateGraph with the GraphState structure\n",
    "workflow = StateGraph(AuthState)\n",
    "workflow"
   ]
  },
  {
   "cell_type": "code",
   "execution_count": 26,
   "id": "35632db9",
   "metadata": {},
   "outputs": [
    {
     "data": {
      "text/plain": [
       "<langgraph.graph.state.StateGraph at 0x74eb556366c0>"
      ]
     },
     "execution_count": 26,
     "metadata": {},
     "output_type": "execute_result"
    }
   ],
   "source": [
    "workflow.add_node(\"InputNode\", input_node)\n",
    "workflow.add_node(\"ValidateCredential\", validate_credentials_node)\n",
    "workflow.add_node(\"Success\", success_node)\n",
    "workflow.add_node(\"Failure\", failure_node)"
   ]
  },
  {
   "cell_type": "code",
   "execution_count": 27,
   "id": "4e114ef3",
   "metadata": {},
   "outputs": [
    {
     "data": {
      "text/plain": [
       "<langgraph.graph.state.StateGraph at 0x74eb556366c0>"
      ]
     },
     "execution_count": 27,
     "metadata": {},
     "output_type": "execute_result"
    }
   ],
   "source": [
    "workflow.add_edge(\"InputNode\", \"ValidateCredential\")\n",
    "\n",
    "workflow.add_conditional_edges(\"ValidateCredential\", router, {\"success_node\": \"Success\", \"failure_node\": \"Failure\"})\n",
    "\n",
    "workflow.add_edge(\"Success\", END)\n",
    "workflow.add_edge(\"Failure\", \"InputNode\")"
   ]
  },
  {
   "cell_type": "code",
   "execution_count": 28,
   "id": "4c3d6a1c",
   "metadata": {},
   "outputs": [
    {
     "data": {
      "text/plain": [
       "<langgraph.graph.state.StateGraph at 0x74eb556366c0>"
      ]
     },
     "execution_count": 28,
     "metadata": {},
     "output_type": "execute_result"
    }
   ],
   "source": [
    "workflow.set_entry_point(\"InputNode\")"
   ]
  },
  {
   "cell_type": "code",
   "execution_count": 29,
   "id": "b9b6b053",
   "metadata": {},
   "outputs": [],
   "source": [
    "app = workflow.compile()"
   ]
  },
  {
   "cell_type": "code",
   "execution_count": 30,
   "id": "007db15f",
   "metadata": {},
   "outputs": [
    {
     "name": "stdout",
     "output_type": "stream",
     "text": [
      "{'username': 'test_user'}\n",
      "Username : test_user Password : test\n",
      "{'username': 'test_user', 'password': 'test', 'is_authenticated': False, 'output': 'Not Successfull, please try again!'}\n",
      "Username : test_user Password : wrongpassword\n",
      "{'username': 'test_user', 'password': 'wrongpassword', 'is_authenticated': False, 'output': 'Not Successfull, please try again!'}\n",
      "Username : test_user Password : what\n",
      "{'username': 'test_user', 'password': 'what', 'is_authenticated': False, 'output': 'Not Successfull, please try again!'}\n",
      "Username : test_user Password : secure_password\n",
      "{'username': 'test_user', 'password': 'secure_password', 'is_authenticated': True, 'output': 'Authentication successful! Welcome.'}\n"
     ]
    }
   ],
   "source": [
    "inputs = {\"username\": \"test_user\"}\n",
    "result = app.invoke(inputs)\n",
    "print(result)"
   ]
  },
  {
   "cell_type": "code",
   "execution_count": null,
   "id": "43409c4b",
   "metadata": {},
   "outputs": [],
   "source": []
  },
  {
   "cell_type": "markdown",
   "id": "7b08971d",
   "metadata": {},
   "source": [
    "## QA Agent"
   ]
  },
  {
   "cell_type": "markdown",
   "id": "f31eb584",
   "metadata": {},
   "source": [
    "### Defining the State for the QA Workflow\n",
    "\n",
    "Now, we are defining the **state** for our **Question-Answering (QA) workflow** using the `QAState` TypedDict. This state will be used to store and manage the data as the workflow progresses, including the user's question, the relevant context (if any), and the generated answer.\n",
    "\n",
    "This state structure will allow us to keep track of:\n",
    "- **`question`**: The user's input that will be evaluated to determine if it’s related to the guided project.\n",
    "- **`context`**: The context provided about the guided project, which will help the system generate a more relevant answer. If the question isn't related to the project, this will be `None`.\n",
    "- **`answer`**: The response generated by the LLM, which will depend on the context and the user's question.\n",
    "  '\n",
    "\n"
   ]
  },
  {
   "cell_type": "code",
   "execution_count": 7,
   "id": "17ac057d",
   "metadata": {},
   "outputs": [],
   "source": [
    "# Define the structure of the QA state\n",
    "class QAState(TypedDict):\n",
    "    question: Optional[str]\n",
    "    context: Optional[str]\n",
    "    answer: Optional[str]"
   ]
  },
  {
   "cell_type": "code",
   "execution_count": 8,
   "id": "ad83a0b2",
   "metadata": {},
   "outputs": [
    {
     "name": "stdout",
     "output_type": "stream",
     "text": [
      "question: What is the purpose of this guided project?\n",
      "context: This project focuses on building a chatbot using Python.\n",
      "answer: None\n"
     ]
    }
   ],
   "source": [
    "# Create an example object\n",
    "qa_state_example = QAState(\n",
    "    question=\"What is the purpose of this guided project?\",\n",
    "    context=\"This project focuses on building a chatbot using Python.\",\n",
    "    answer=None\n",
    ")\n",
    "\n",
    "# Print the attributes\n",
    "for key, value in qa_state_example.items():\n",
    "    print(f\"{key}: {value}\")"
   ]
  },
  {
   "cell_type": "code",
   "execution_count": 9,
   "id": "ce605db1",
   "metadata": {},
   "outputs": [],
   "source": [
    "def input_validation_node(state):\n",
    "    # Extract the question from the state, and strip any leading or trailing spaces\n",
    "    question = state.get(\"question\", \"\").strip()\n",
    "    \n",
    "    # If the question is empty, return an error message indicating invalid input\n",
    "    if not question:\n",
    "        return {\"valid\": False, \"error\": \"Question cannot be empty.\"}\n",
    "    \n",
    "    # If the question is valid, return valid status\n",
    "    return {\"valid\": True}"
   ]
  },
  {
   "cell_type": "code",
   "execution_count": 10,
   "id": "24e523b7",
   "metadata": {},
   "outputs": [
    {
     "data": {
      "text/plain": [
       "{'valid': True}"
      ]
     },
     "execution_count": 10,
     "metadata": {},
     "output_type": "execute_result"
    }
   ],
   "source": [
    "input_validation_node(qa_state_example)"
   ]
  },
  {
   "cell_type": "code",
   "execution_count": 11,
   "id": "59c1d35d",
   "metadata": {},
   "outputs": [],
   "source": [
    "def context_provider_node(state):\n",
    "    question = state.get(\"question\", \"\").lower()\n",
    "    # Check if the question is related to the guided project\n",
    "    if \"langgraph\" in question or \"guided project\" in question:\n",
    "        context = (\n",
    "            \"It is very important to note that LangGraph is about B.L.A.H. -- the core concept. B.L.A.H.!\"\n",
    "        )\n",
    "        return {\"context\": context}\n",
    "    # If unrelated, set context to null\n",
    "    return {\"context\": None}"
   ]
  },
  {
   "cell_type": "code",
   "execution_count": 12,
   "id": "2d0428cc",
   "metadata": {},
   "outputs": [],
   "source": [
    "def llm_qa_node(state):\n",
    "    # Extract the question and context from the state\n",
    "    question = state.get(\"question\", \"\")\n",
    "    context = state.get(\"context\", None)\n",
    "\n",
    "    # Check for missing context and return a fallback response\n",
    "    if not context:\n",
    "        return {\"answer\": \"I don't have enough context to answer your question.\"}\n",
    "\n",
    "    # Construct the prompt dynamically\n",
    "    prompt = f\"Context: {context}\\nQuestion: {question}\\nAnswer the question based on the provided context.\"\n",
    "\n",
    "    # Use LangChain's ChatOpenAI to get the response\n",
    "    try:\n",
    "        response = llm.invoke(prompt)\n",
    "        return {\"answer\": response.content.strip()}\n",
    "    except Exception as e:\n",
    "        return {\"answer\": f\"An error occurred: {str(e)}\"}"
   ]
  },
  {
   "cell_type": "code",
   "execution_count": 13,
   "id": "4b96720f",
   "metadata": {},
   "outputs": [],
   "source": [
    "qa_workflow = StateGraph(QAState)"
   ]
  },
  {
   "cell_type": "code",
   "execution_count": 14,
   "id": "2fed0f87",
   "metadata": {},
   "outputs": [
    {
     "data": {
      "text/plain": [
       "<langgraph.graph.state.StateGraph at 0x70d702d3e1e0>"
      ]
     },
     "execution_count": 14,
     "metadata": {},
     "output_type": "execute_result"
    }
   ],
   "source": [
    "qa_workflow.add_node(\"InputNode\", input_validation_node)\n",
    "qa_workflow.add_node(\"ContextNode\", context_provider_node)\n",
    "qa_workflow.add_node(\"QANode\", llm_qa_node)"
   ]
  },
  {
   "cell_type": "code",
   "execution_count": 15,
   "id": "442b60d7",
   "metadata": {},
   "outputs": [
    {
     "data": {
      "text/plain": [
       "<langgraph.graph.state.StateGraph at 0x70d702d3e1e0>"
      ]
     },
     "execution_count": 15,
     "metadata": {},
     "output_type": "execute_result"
    }
   ],
   "source": [
    "qa_workflow.set_entry_point(\"InputNode\")"
   ]
  },
  {
   "cell_type": "code",
   "execution_count": 18,
   "id": "c0e2e1af",
   "metadata": {},
   "outputs": [],
   "source": [
    "qa_workflow.add_edge(\"InputNode\", \"ContextNode\")\n",
    "qa_workflow.add_edge(\"ContextNode\", \"QANode\")\n",
    "qa_workflow.add_edge(\"QANode\", END)\n",
    "qa_app = qa_workflow.compile()"
   ]
  },
  {
   "cell_type": "code",
   "execution_count": 19,
   "id": "bf9b0b7c",
   "metadata": {},
   "outputs": [
    {
     "data": {
      "text/plain": [
       "{'question': 'What is the weather today?',\n",
       " 'context': None,\n",
       " 'answer': \"I don't have enough context to answer your question.\"}"
      ]
     },
     "execution_count": 19,
     "metadata": {},
     "output_type": "execute_result"
    }
   ],
   "source": [
    "qa_app.invoke({\"question\": \"What is the weather today?\"})"
   ]
  },
  {
   "cell_type": "code",
   "execution_count": 20,
   "id": "02aca10a",
   "metadata": {},
   "outputs": [
    {
     "data": {
      "text/plain": [
       "{'question': 'What is LangGraph?',\n",
       " 'context': 'It is very important to note that LangGraph is about B.L.A.H. -- the core concept. B.L.A.H.!',\n",
       " 'answer': 'Based on the provided context, it appears that LangGraph is related to the concept of B.L.A.H., which seems to be an acronym or abbreviation for a specific idea or theory. However, without further information, I can only make an educated guess.\\n\\nGiven the emphasis on \"B.L.A.H.\" being the core concept, I would venture to say that LangGraph is likely a framework, model, or system related to language (hence the name \"LangGraph\") and B.L.A.H. represents its central idea or principle.'}"
      ]
     },
     "execution_count": 20,
     "metadata": {},
     "output_type": "execute_result"
    }
   ],
   "source": [
    "qa_app.invoke({\"question\": \"What is LangGraph?\"})"
   ]
  },
  {
   "cell_type": "code",
   "execution_count": null,
   "id": "c897fc80",
   "metadata": {},
   "outputs": [],
   "source": []
  }
 ],
 "metadata": {
  "kernelspec": {
   "display_name": "agenticrag",
   "language": "python",
   "name": "python3"
  },
  "language_info": {
   "codemirror_mode": {
    "name": "ipython",
    "version": 3
   },
   "file_extension": ".py",
   "mimetype": "text/x-python",
   "name": "python",
   "nbconvert_exporter": "python",
   "pygments_lexer": "ipython3",
   "version": "3.12.3"
  }
 },
 "nbformat": 4,
 "nbformat_minor": 5
}
