{
 "cells": [
  {
   "cell_type": "code",
   "execution_count": 35,
   "id": "dee391e1",
   "metadata": {},
   "outputs": [],
   "source": [
    "import random\n",
    "import string\n",
    "from typing import TypedDict\n",
    "from langgraph.graph import StateGraph, END\n",
    "from langgraph.graph import StateGraph\n",
    "\n",
    "from langchain_core.tools import tool\n",
    "from langchain_core.messages import HumanMessage, ToolMessage\n",
    "from langchain_ollama.chat_models import ChatOllama\n",
    "from langchain_core.messages import HumanMessage\n",
    "from tqdm import tqdm\n",
    "import time, re\n",
    "\n",
    "llm = ChatOllama(\n",
    "    model=\"llama3.1:latest\",\n",
    "    temperature=0.0,\n",
    "    base_url=\"http://localhost:11434\",\n",
    "    api_key=\"ollama\"\n",
    ")"
   ]
  },
  {
   "cell_type": "code",
   "execution_count": 36,
   "id": "0cebe4c9",
   "metadata": {},
   "outputs": [],
   "source": [
    "from typing import Optional\n",
    "\n",
    "class CounterState(TypedDict):\n",
    "    number_counter: Optional[str] \n",
    "    random_letter: Optional[str]"
   ]
  },
  {
   "cell_type": "code",
   "execution_count": 37,
   "id": "ac9365f6",
   "metadata": {},
   "outputs": [
    {
     "name": "stdout",
     "output_type": "stream",
     "text": [
      "cstate_1: {'number_counter': 0, 'random_letter': 'x'}\n"
     ]
    }
   ],
   "source": [
    "cstate_1: CounterState = {\n",
    "    \"number_counter\": 0,  # Start with 0, will be incremented to 1 on first run\n",
    "    \"random_letter\": \"x\",\n",
    "}\n",
    "print(f\"cstate_1: {cstate_1}\")"
   ]
  },
  {
   "cell_type": "code",
   "execution_count": 60,
   "id": "74d97895",
   "metadata": {},
   "outputs": [],
   "source": [
    "import random\n",
    "import string\n",
    "\n",
    "def increment_node(state):\n",
    "    state['number_counter'] += 1\n",
    "    state['random_letter'] = random.choice(string.ascii_letters)\n",
    "    return state\n"
   ]
  },
  {
   "cell_type": "code",
   "execution_count": 61,
   "id": "cc0015f5",
   "metadata": {},
   "outputs": [],
   "source": [
    "def print_state(state):\n",
    "    print(f\"Current state: {state}\")\n",
    "    return state"
   ]
  },
  {
   "cell_type": "code",
   "execution_count": 51,
   "id": "79559e6e",
   "metadata": {},
   "outputs": [
    {
     "name": "stdout",
     "output_type": "stream",
     "text": [
      "Current state: {'number_counter': 0, 'random_letter': 'x'}\n"
     ]
    }
   ],
   "source": [
    "print_state(cstate_1)"
   ]
  },
  {
   "cell_type": "code",
   "execution_count": 70,
   "id": "67b1b355",
   "metadata": {},
   "outputs": [],
   "source": [
    "def stop_condition(state):\n",
    "    # Check if the number_counter is greater than 5\n",
    "    counter = state.get('number_counter', 0)\n",
    "    \n",
    "    if counter > 5:\n",
    "     \n",
    "        return \"end\"\n",
    "    else:\n",
    "      \n",
    "        return \"continue\""
   ]
  },
  {
   "cell_type": "code",
   "execution_count": 63,
   "id": "76153956",
   "metadata": {},
   "outputs": [
    {
     "data": {
      "text/plain": [
       "<langgraph.graph.state.StateGraph at 0x7ba2241fe930>"
      ]
     },
     "execution_count": 63,
     "metadata": {},
     "output_type": "execute_result"
    }
   ],
   "source": [
    "from langgraph.graph import StateGraph\n",
    "from langgraph.graph import END\n",
    "\n",
    "# Create an instance of StateGraph with the GraphState structure\n",
    "workflow = StateGraph(CounterState)\n",
    "workflow"
   ]
  },
  {
   "cell_type": "code",
   "execution_count": 64,
   "id": "57e19df9",
   "metadata": {},
   "outputs": [
    {
     "data": {
      "text/plain": [
       "<langgraph.graph.state.StateGraph at 0x7ba2241fe930>"
      ]
     },
     "execution_count": 64,
     "metadata": {},
     "output_type": "execute_result"
    }
   ],
   "source": [
    "workflow.add_node(\"IncrementNode\", increment_node)\n",
    "workflow.add_node(\"PrintNode\", print_state)     "
   ]
  },
  {
   "cell_type": "code",
   "execution_count": 65,
   "id": "6dcb9f32",
   "metadata": {},
   "outputs": [
    {
     "data": {
      "text/plain": [
       "<langgraph.graph.state.StateGraph at 0x7ba2241fe930>"
      ]
     },
     "execution_count": 65,
     "metadata": {},
     "output_type": "execute_result"
    }
   ],
   "source": [
    "workflow.add_edge(\"IncrementNode\", \"PrintNode\")"
   ]
  },
  {
   "cell_type": "code",
   "execution_count": 66,
   "id": "886f69d7",
   "metadata": {},
   "outputs": [
    {
     "data": {
      "text/plain": [
       "<langgraph.graph.state.StateGraph at 0x7ba2241fe930>"
      ]
     },
     "execution_count": 66,
     "metadata": {},
     "output_type": "execute_result"
    }
   ],
   "source": [
    "workflow.add_conditional_edges(\"PrintNode\", stop_condition, {\"continue\": \"IncrementNode\", \"end\": END})\n"
   ]
  },
  {
   "cell_type": "code",
   "execution_count": 67,
   "id": "762f1f40",
   "metadata": {},
   "outputs": [],
   "source": [
    "workflow.set_entry_point(\"IncrementNode\")\n",
    "app = workflow.compile()"
   ]
  },
  {
   "cell_type": "code",
   "execution_count": 68,
   "id": "02441ead",
   "metadata": {},
   "outputs": [
    {
     "data": {
      "image/png": "[encoded data removed]",
      "text/plain": [
       "<langgraph.graph.state.CompiledStateGraph object at 0x7ba2241b2900>"
      ]
     },
     "execution_count": 68,
     "metadata": {},
     "output_type": "execute_result"
    }
   ],
   "source": [
    "app"
   ]
  },
  {
   "cell_type": "code",
   "execution_count": 71,
   "id": "e37dc908",
   "metadata": {},
   "outputs": [
    {
     "name": "stdout",
     "output_type": "stream",
     "text": [
      "Current state: {'number_counter': 1, 'random_letter': 'u'}\n",
      "Checking stop condition: counter = 1\n",
      "Current state: {'number_counter': 2, 'random_letter': 'g'}\n",
      "Checking stop condition: counter = 2\n",
      "Current state: {'number_counter': 3, 'random_letter': 'R'}\n",
      "Checking stop condition: counter = 3\n",
      "Current state: {'number_counter': 4, 'random_letter': 'i'}\n",
      "Checking stop condition: counter = 4\n",
      "Current state: {'number_counter': 5, 'random_letter': 'd'}\n",
      "Checking stop condition: counter = 5\n",
      "Current state: {'number_counter': 6, 'random_letter': 'a'}\n",
      "Checking stop condition: counter = 6\n",
      "{'number_counter': 6, 'random_letter': 'a'}\n"
     ]
    }
   ],
   "source": [
    "input_state = cstate_1\n",
    "result = app.invoke(input_state)\n",
    "print(result)"
   ]
  }
 ],
 "metadata": {
  "kernelspec": {
   "display_name": "agenticrag",
   "language": "python",
   "name": "python3"
  },
  "language_info": {
   "codemirror_mode": {
    "name": "ipython",
    "version": 3
   },
   "file_extension": ".py",
   "mimetype": "text/x-python",
   "name": "python",
   "nbconvert_exporter": "python",
   "pygments_lexer": "ipython3",
   "version": "3.12.3"
  }
 },
 "nbformat": 4,
 "nbformat_minor": 5
}
